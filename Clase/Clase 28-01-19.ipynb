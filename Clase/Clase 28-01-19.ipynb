{
 "cells": [
  {
   "cell_type": "code",
   "execution_count": 10,
   "metadata": {},
   "outputs": [
    {
     "data": {
      "text/plain": [
       "40"
      ]
     },
     "execution_count": 10,
     "metadata": {},
     "output_type": "execute_result"
    }
   ],
   "source": [
    "#Generación de numeros aleatorios\n",
    "\n",
    "import random\n",
    "y=random.randint(1,100)\n",
    "y"
   ]
  },
  {
   "cell_type": "code",
   "execution_count": 27,
   "metadata": {},
   "outputs": [
    {
     "name": "stdout",
     "output_type": "stream",
     "text": [
      "[25, 82, 68, 39, 82, 4, 84, 52, 74, 86]\n",
      "[55, 73, 40, 88, 20, 48, 75, 72, 6, 3]\n",
      "[19, 96, 66, 54, 97, 57, 23, 13, 99, 52]\n",
      "[48, 82, 69, 18, 60, 32, 38, 100, 48, 47]\n",
      "[35, 46, 75, 22, 93, 97, 54, 61, 93, 3]\n",
      "[7, 12, 55, 34, 40, 16, 12, 55, 96, 45]\n",
      "[69, 48, 53, 70, 7, 47, 65, 20, 20, 20]\n",
      "[72, 65, 74, 68, 46, 71, 40, 97, 34, 51]\n",
      "[55, 40, 43, 89, 81, 52, 14, 88, 58, 89]\n",
      "[29, 49, 6, 28, 33, 14, 7, 70, 30, 90]\n"
     ]
    }
   ],
   "source": [
    "filas=10\n",
    "columnas=10\n",
    "x=[]\n",
    "for i in range(filas):\n",
    "    x.append([])\n",
    "    for j in range(columnas):\n",
    "        x[i].append(random.randint(1,100))\n",
    "        \n",
    "for r in range(len(x)):\n",
    "    print(x[r])\n",
    "    \n",
    "for i in range(len(x)):\n",
    "    for j in range(len(x[i])):\n",
    "        if i==j:\n",
    "            x[i][j]=0\n",
    "        if i<j:\n",
    "            x[i][j]=2\n",
    "        if i>j:\n",
    "            x[i][j]=1\n",
    "for i in range(len(x)):\n",
    "    for j in range(len(x[i])):\n",
    "        if (i==0 or i==len(x)-1) and (j==0 or j==len(x[i])-1):\n",
    "            x[i][j]=3\n",
    "\n"
   ]
  },
  {
   "cell_type": "code",
   "execution_count": 44,
   "metadata": {},
   "outputs": [
    {
     "name": "stdout",
     "output_type": "stream",
     "text": [
      "hay 1  ceros en la fila 0\n",
      "hay 3  ceros en la fila 1\n",
      "hay 0  ceros en la fila 2\n",
      "hay 0  ceros en la fila 3\n",
      "hay 2  ceros en la fila 4\n",
      "[[0, 2, 6], [0, 0, 0, 8], [2, 6, 4], [6, 4], [0, 2, 0]]\n"
     ]
    }
   ],
   "source": [
    "y=[[0,2,5,7,6],[0,0,0,3,8],[2,9,6,3,4],[1,5,6,1,4],[0,9,2,5,0]]\n",
    "y\n",
    "contador=0\n",
    "for i in y:\n",
    "    for j in i:\n",
    "        if j==0:\n",
    "            contador+=1\n",
    "            \n",
    "\n",
    "fila=0\n",
    "for i in y:\n",
    "    cont=0\n",
    "    for j in i:\n",
    "        if j==0:\n",
    "            cont+=1\n",
    "    print(\"hay\", cont,\" ceros en la fila\", fila)\n",
    "    fila+=1\n",
    "        \n",
    "pares=[]\n",
    "for i in y:\n",
    "    par_temp=[]\n",
    "    for j in i:\n",
    "        if j%2==0:\n",
    "            par_temp.append(j)\n",
    "    pares.append(par_temp)\n",
    "print(pares)"
   ]
  },
  {
   "cell_type": "code",
   "execution_count": null,
   "metadata": {},
   "outputs": [],
   "source": []
  }
 ],
 "metadata": {
  "kernelspec": {
   "display_name": "Python 3",
   "language": "python",
   "name": "python3"
  },
  "language_info": {
   "codemirror_mode": {
    "name": "ipython",
    "version": 3
   },
   "file_extension": ".py",
   "mimetype": "text/x-python",
   "name": "python",
   "nbconvert_exporter": "python",
   "pygments_lexer": "ipython3",
   "version": "3.6.5"
  }
 },
 "nbformat": 4,
 "nbformat_minor": 2
}
