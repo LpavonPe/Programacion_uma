{
 "cells": [
  {
   "cell_type": "code",
   "execution_count": 1,
   "metadata": {},
   "outputs": [],
   "source": [
    "import math\n",
    "import random as rnd\n",
    "import numpy as np"
   ]
  },
  {
   "cell_type": "code",
   "execution_count": 2,
   "metadata": {},
   "outputs": [],
   "source": [
    "def palabra(x):\n",
    "    y=[]\n",
    "    may=0\n",
    "    minu=0\n",
    "    y=list(x)\n",
    "    for i in y:\n",
    "        if i.isupper() == True:\n",
    "            may=may+1\n",
    "        elif i.islower()==True:\n",
    "            minu=minu+1\n",
    "        return may,minu"
   ]
  },
  {
   "cell_type": "code",
   "execution_count": 19,
   "metadata": {},
   "outputs": [],
   "source": [
    "def tipo(x):\n",
    "    y=[]\n",
    "    may=0\n",
    "    minu=0\n",
    "    num=0\n",
    "    y=list(x)\n",
    "    for i in y:\n",
    "        if i.isupper() == True:\n",
    "            may=may+1\n",
    "        elif i.islower() ==True:\n",
    "            minu=minu+1\n",
    "        elif i.isnumeric() == True:\n",
    "            num+=1\n",
    "    return may,minu, num"
   ]
  },
  {
   "cell_type": "code",
   "execution_count": 31,
   "metadata": {},
   "outputs": [],
   "source": [
    "def repetidos(x):\n",
    "    y=set(x)\n",
    "    ylist=list(y)\n",
    "    return ylist\n",
    "    "
   ]
  },
  {
   "cell_type": "code",
   "execution_count": 32,
   "metadata": {},
   "outputs": [
    {
     "data": {
      "text/plain": [
       "[1, 2, 3, 4, 5, 7, 8]"
      ]
     },
     "execution_count": 32,
     "metadata": {},
     "output_type": "execute_result"
    }
   ],
   "source": [
    "repetidos([1,1,1,2,3,4,5,7,8,1,1,1,5,5,2,2])"
   ]
  },
  {
   "cell_type": "code",
   "execution_count": 30,
   "metadata": {},
   "outputs": [
    {
     "data": {
      "text/plain": [
       "[1, 1, 1, 1, 1, 2, 3]"
      ]
     },
     "execution_count": 30,
     "metadata": {},
     "output_type": "execute_result"
    }
   ],
   "source": [
    "x=[1,1,1,1,1,2,3]\n",
    "\n",
    "x"
   ]
  },
  {
   "cell_type": "code",
   "execution_count": 63,
   "metadata": {},
   "outputs": [],
   "source": [
    "def valido(x):\n",
    "    y=list(x)\n",
    "    for i in range(3):\n",
    "        y.remove(\"-\")\n",
    "    suma=0\n",
    "    for i in range(len(y)):\n",
    "        suma+=int(y[i])*(i+1)\n",
    "    if suma%11==0:\n",
    "        return (\"ISBN valido\")\n",
    "    else:\n",
    "        return(\"ISBN invalido\")"
   ]
  },
  {
   "cell_type": "code",
   "execution_count": 64,
   "metadata": {},
   "outputs": [
    {
     "data": {
      "text/plain": [
       "'ISBN valido'"
      ]
     },
     "execution_count": 64,
     "metadata": {},
     "output_type": "execute_result"
    }
   ],
   "source": [
    "y=\"0-19-852663-6\"\n",
    "valido(y)\n"
   ]
  },
  {
   "cell_type": "code",
   "execution_count": 94,
   "metadata": {},
   "outputs": [],
   "source": [
    "def valido13(x):\n",
    "    y=list(x)\n",
    "    suma=0\n",
    "    for i in y:\n",
    "        if i==\"-\":\n",
    "            y.remove(\"-\")\n",
    "    for i in range(len(y)-1):\n",
    "        print(suma)\n",
    "        if i%2==1:\n",
    "            suma+=int(y[i])*3\n",
    "        elif i%2==0:\n",
    "            suma+=int(y[i])\n",
    "    r=suma%10\n",
    "    cont=10-r\n",
    "    if cont == int(y[len(y)-1]):\n",
    "        return(\"ISBN valido\")\n",
    "    else:\n",
    "        return(\"ISBN invalido\")\n",
    "        "
   ]
  },
  {
   "cell_type": "code",
   "execution_count": 95,
   "metadata": {},
   "outputs": [
    {
     "name": "stdout",
     "output_type": "stream",
     "text": [
      "0\n",
      "9\n",
      "30\n",
      "38\n",
      "62\n",
      "66\n",
      "84\n",
      "85\n",
      "103\n",
      "112\n",
      "112\n",
      "118\n",
      "118\n",
      "8\n",
      "2\n"
     ]
    },
    {
     "data": {
      "text/plain": [
       "'ISBN valido'"
      ]
     },
     "execution_count": 95,
     "metadata": {},
     "output_type": "execute_result"
    }
   ],
   "source": [
    "val=\"978-84-616-9060-2\"\n",
    "valido13(val)"
   ]
  },
  {
   "cell_type": "code",
   "execution_count": 74,
   "metadata": {},
   "outputs": [
    {
     "data": {
      "text/plain": [
       "13"
      ]
     },
     "execution_count": 74,
     "metadata": {},
     "output_type": "execute_result"
    }
   ],
   "source": [
    "len(y)"
   ]
  },
  {
   "cell_type": "code",
   "execution_count": 83,
   "metadata": {},
   "outputs": [
    {
     "data": {
      "text/plain": [
       "8"
      ]
     },
     "execution_count": 83,
     "metadata": {},
     "output_type": "execute_result"
    }
   ],
   "source": [
    "118%10"
   ]
  },
  {
   "cell_type": "code",
   "execution_count": null,
   "metadata": {},
   "outputs": [],
   "source": []
  }
 ],
 "metadata": {
  "kernelspec": {
   "display_name": "Python 3",
   "language": "python",
   "name": "python3"
  },
  "language_info": {
   "codemirror_mode": {
    "name": "ipython",
    "version": 3
   },
   "file_extension": ".py",
   "mimetype": "text/x-python",
   "name": "python",
   "nbconvert_exporter": "python",
   "pygments_lexer": "ipython3",
   "version": "3.6.5"
  }
 },
 "nbformat": 4,
 "nbformat_minor": 2
}
