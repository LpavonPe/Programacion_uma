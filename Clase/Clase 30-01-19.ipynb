{
 "cells": [
  {
   "cell_type": "code",
   "execution_count": 1,
   "metadata": {},
   "outputs": [],
   "source": [
    "import numpy as np\n"
   ]
  },
  {
   "cell_type": "code",
   "execution_count": 11,
   "metadata": {},
   "outputs": [
    {
     "name": "stdout",
     "output_type": "stream",
     "text": [
      "Todos son números\n"
     ]
    }
   ],
   "source": [
    "lista=[1,2,3,4]\n",
    "d=np.array(lista)#Covertir un arreglo de solo numeros a un numpy array\n",
    "cont=0\n",
    "for j in lista:\n",
    "    if type(j)==int or type(j)==float:\n",
    "        cont=cont+1\n",
    "if cont==len(lista):\n",
    "    print(\"Todos son números\")\n",
    "else:\n",
    "        print(\"No se puede\")"
   ]
  },
  {
   "cell_type": "code",
   "execution_count": 25,
   "metadata": {},
   "outputs": [],
   "source": [
    "z=np.array([1,2,3]) #Manera de definir un arreglo en np, se tienen que mter los datos entre corchetes\n",
    "b1=np.arange(12,23,5) #Arreglo que empieza en 12, termina en 23 y va de 5 en 5\n"
   ]
  },
  {
   "cell_type": "code",
   "execution_count": 60,
   "metadata": {},
   "outputs": [
    {
     "name": "stdout",
     "output_type": "stream",
     "text": [
      "La matriz es cuadrada\n"
     ]
    },
    {
     "data": {
      "text/plain": [
       "array([[5., 5., 5., 5., 5.],\n",
       "       [5., 5., 5., 5., 5.],\n",
       "       [5., 5., 5., 5., 5.],\n",
       "       [5., 5., 5., 5., 5.],\n",
       "       [5., 5., 5., 5., 5.]])"
      ]
     },
     "execution_count": 60,
     "metadata": {},
     "output_type": "execute_result"
    }
   ],
   "source": [
    "a=np.zeros(10)\n",
    "b=np.ones(10)\n",
    "c=b*5\n",
    "d=np.arange(20,81)\n",
    "e=np.arange(20,81,2)\n",
    "f=np.random.rand(5,5)\n",
    "if f.shape[0]==f.shape[1]:\n",
    "    print(\"La matriz es cuadrada\")\n",
    "g=np.zeros(shape=(5,5))\n",
    "h=np.ones(shape=(5,5))\n",
    "i=h*5\n",
    "i\n"
   ]
  },
  {
   "cell_type": "code",
   "execution_count": 86,
   "metadata": {},
   "outputs": [
    {
     "name": "stdout",
     "output_type": "stream",
     "text": [
      "-47\n",
      "[-60  -8  21]\n"
     ]
    }
   ],
   "source": [
    "x=np.array([12,-2,7])\n",
    "y=np.array([-5,4,3])\n",
    "for i in range(len(x)) :\n",
    "    x[i]=x[i]/2\n",
    "y=np.array([-5,4,3])\n",
    "x=np.array([12,-2,7])\n",
    "k=0\n",
    "if len(x)==len(y):\n",
    "    for i in range(len(x)):\n",
    "        for j in range(len(y)):\n",
    "            if i==j:\n",
    "                k+=(x[i]*y[j])\n",
    "else:\n",
    "    print(\"No se puede\")\n",
    "print(np.dot(x,y))  #modulo para hacer producto punto\n",
    "\n",
    "producto=[]\n",
    "if len(x)==len(y):\n",
    "    for i in range(len(x)):\n",
    "        for j in range(len(y)): \n",
    "            k=0\n",
    "            if i==j:\n",
    "                k=x[i]*y[j]\n",
    "                producto.append(k)\n",
    "    producto=np.array(producto)\n",
    "    print(producto)"
   ]
  }
 ],
 "metadata": {
  "kernelspec": {
   "display_name": "Python 3",
   "language": "python",
   "name": "python3"
  },
  "language_info": {
   "codemirror_mode": {
    "name": "ipython",
    "version": 3
   },
   "file_extension": ".py",
   "mimetype": "text/x-python",
   "name": "python",
   "nbconvert_exporter": "python",
   "pygments_lexer": "ipython3",
   "version": "3.6.5"
  }
 },
 "nbformat": 4,
 "nbformat_minor": 2
}
