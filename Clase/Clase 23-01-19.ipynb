{
 "cells": [
  {
   "cell_type": "code",
   "execution_count": 89,
   "metadata": {},
   "outputs": [],
   "source": [
    "import math"
   ]
  },
  {
   "cell_type": "code",
   "execution_count": 78,
   "metadata": {},
   "outputs": [
    {
     "name": "stdout",
     "output_type": "stream",
     "text": [
      "['o', 'n', \"'\", 't', ' ', 'p', 'a']\n",
      "['o', 'n', 't', ' ', 'p', 'a']\n",
      "['o', 'n', 't', ' ', 'a']\n",
      "['o', 'n', ' ', 't', 'a', 'p']\n"
     ]
    }
   ],
   "source": [
    "phrase=\"Don't panic!\"       # Ejemplo de tarea ejercicio 67 del libro\n",
    "plist=list(phrase)\n",
    "plist.pop(0)\n",
    "for i in range(4):\n",
    "    plist.pop()\n",
    "print(plist)\n",
    "plist.remove(\"'\")\n",
    "print(plist)\n",
    "temp=plist.pop(-2)\n",
    "print(plist)\n",
    "plist.append(temp)\n",
    "temp2=plist.pop(-3)\n",
    "plist.insert(2,temp2)\n",
    "print(plist)"
   ]
  },
  {
   "cell_type": "code",
   "execution_count": 65,
   "metadata": {},
   "outputs": [
    {
     "data": {
      "text/plain": [
       "['o', 'n', 't', ' ', 'a', 'p']"
      ]
     },
     "execution_count": 65,
     "metadata": {},
     "output_type": "execute_result"
    }
   ],
   "source": [
    "plist"
   ]
  },
  {
   "cell_type": "code",
   "execution_count": 14,
   "metadata": {},
   "outputs": [
    {
     "data": {
      "text/plain": [
       "['o', 'n', \"'\", 't', ' ', 'p', 'a', 'n', 'i', 'c', '!']"
      ]
     },
     "execution_count": 14,
     "metadata": {},
     "output_type": "execute_result"
    }
   ],
   "source": [
    "plist.remove(\"D\")\n",
    "plist"
   ]
  },
  {
   "cell_type": "code",
   "execution_count": 47,
   "metadata": {},
   "outputs": [
    {
     "name": "stdout",
     "output_type": "stream",
     "text": [
      "['o', 'n', \"'\", 't', ' ', 'p', 'a', 'n', 'i', 'c', '!']\n",
      "['o', 'n', \"'\", 't', ' ', 'p', 'a', 'n', 'i', 'c', '!']\n",
      "['o', 'n', 't', ' ', 'p', 'a', 'n', 'i', 'c', '!']\n",
      "['o', 'n', 't', ' ', 'p', 'a', 'n', 'i', 'c', '!']\n",
      "['o', 'n', 't', ' ', 'p', 'a', 'n', 'i', 'c', '!']\n",
      "['o', 'n', 't', ' ', 'p', 'a', 'n', 'i', 'c', '!']\n",
      "['o', 'n', 't', ' ', 'p', 'a', 'n', 'i', 'c', '!']\n",
      "['o', 'n', 't', ' ', 'p', 'a', 'n', 'c', '!']\n",
      "['o', 'n', 't', ' ', 'p', 'a', 'n', 'c']\n"
     ]
    }
   ],
   "source": [
    "lista2=list(phrase)  ##Intentos con for del ejercicio 67\n",
    "palabra_obj=\"on tap\"\n",
    "lobj=list(palabra_obj)\n",
    "for letra in lista2:\n",
    "    if letra not in lobj:\n",
    "        lista2.remove(letra)\n",
    "    print(lista2)\n",
    "#lista2.p"
   ]
  },
  {
   "cell_type": "code",
   "execution_count": 90,
   "metadata": {},
   "outputs": [
    {
     "name": "stdout",
     "output_type": "stream",
     "text": [
      "[1, 2]\n",
      "[3, 4]\n",
      "[1.5, 3.5]\n"
     ]
    }
   ],
   "source": [
    "x=[[1,2],[3,4]]\n",
    "for i in x:\n",
    "    print(i)\n",
    "promedios=[]\n",
    "for i in x:\n",
    "    promedios.append(sum(i)/len(i))\n",
    "print(promedios)"
   ]
  },
  {
   "cell_type": "code",
   "execution_count": 96,
   "metadata": {},
   "outputs": [
    {
     "data": {
      "text/plain": [
       "2.5"
      ]
     },
     "execution_count": 96,
     "metadata": {},
     "output_type": "execute_result"
    }
   ],
   "source": [
    "suma=0\n",
    "k=0\n",
    "for j in x:\n",
    "    for i in j:\n",
    "        suma+=i\n",
    "        k+=1\n",
    "promedio=suma/i\n",
    "promedio"
   ]
  },
  {
   "cell_type": "code",
   "execution_count": 99,
   "metadata": {},
   "outputs": [
    {
     "data": {
      "text/plain": [
       "[[1, 4, 7, 11, 5], [5, 21, 14], [4, 0, 81, 64, 5], [27, 4, 77]]"
      ]
     },
     "execution_count": 99,
     "metadata": {},
     "output_type": "execute_result"
    }
   ],
   "source": [
    "A=[[1,4,7,11],[5,21,14,16],[4,0,81,64],[27,4,77,17]]\n",
    "for i in range(len(A)):\n",
    "    if i%2==0:\n",
    "        A[i].append(5)\n",
    "    else:\n",
    "        A[i].pop()\n",
    "        \n",
    "A\n",
    "        "
   ]
  }
 ],
 "metadata": {
  "kernelspec": {
   "display_name": "Python 3",
   "language": "python",
   "name": "python3"
  },
  "language_info": {
   "codemirror_mode": {
    "name": "ipython",
    "version": 3
   },
   "file_extension": ".py",
   "mimetype": "text/x-python",
   "name": "python",
   "nbconvert_exporter": "python",
   "pygments_lexer": "ipython3",
   "version": "3.6.5"
  }
 },
 "nbformat": 4,
 "nbformat_minor": 2
}
