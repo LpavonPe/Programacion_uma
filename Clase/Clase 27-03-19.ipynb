{
 "cells": [
  {
   "cell_type": "code",
   "execution_count": 3,
   "metadata": {},
   "outputs": [],
   "source": [
    "import math\n",
    "import pandas as pd\n",
    "import random as rand"
   ]
  },
  {
   "cell_type": "code",
   "execution_count": 2,
   "metadata": {},
   "outputs": [],
   "source": [
    "import PyQt5"
   ]
  },
  {
   "cell_type": "code",
   "execution_count": 1,
   "metadata": {},
   "outputs": [
    {
     "ename": "SystemExit",
     "evalue": "0",
     "output_type": "error",
     "traceback": [
      "An exception has occurred, use %tb to see the full traceback.\n",
      "\u001b[1;31mSystemExit\u001b[0m\u001b[1;31m:\u001b[0m 0\n"
     ]
    },
    {
     "name": "stderr",
     "output_type": "stream",
     "text": [
      "C:\\Users\\pavo_\\Anaconda3\\lib\\site-packages\\IPython\\core\\interactiveshell.py:2971: UserWarning: To exit: use 'exit', 'quit', or Ctrl-D.\n",
      "  warn(\"To exit: use 'exit', 'quit', or Ctrl-D.\", stacklevel=1)\n"
     ]
    }
   ],
   "source": [
    "import sys\n",
    "from PyQt5 import QtWidgets, QtGui\n",
    "\n",
    "class Windows(QtWidgets.QMainWindow):\n",
    "    def __init__(self):\n",
    "        super().__init__()   ##Facilita la herencia ##Se recomienda simpre empezar asi las pantallas\n",
    "        \n",
    "        self.title= \"Mi pantalla\" #titulo de la ventana\n",
    "        self.top =350 #Donde aparece la pantalla, a que espacio de la parte de arriba\n",
    "        self.left=100 #Dondde aparece la pantalla, a que pixeles de la izquierda\n",
    "        self.width=550\n",
    "        self.height=550\n",
    "        #Características de la pantalla\n",
    "        \n",
    "        self.setWindowTitle(self.title)\n",
    "        self.setGeometry(self.top,self.left,self.width,self.height) #Siempre en este orden\n",
    "        self.lable=QtWidgets.QLabel(\"Bienvenido!!\",self)\n",
    "        self.lable.move(233,68)\n",
    "        self.lable2=QtWidgets.QLabel(\"Mi nombre es Luis\",self)\n",
    "        self.lable2.move(300,10)\n",
    "        self.linea=QtWidgets.QLineEdit(self)\n",
    "        self.linea.move(50,25)\n",
    "        self.lable=QtWidgets.QLabel(\"Aqui\",self)\n",
    "        self.lable.move(100,100)\n",
    "        \n",
    "        \n",
    "        self.show()\n",
    "        \n",
    "        \n",
    "        \n",
    "    \n",
    "app= QtWidgets.QApplication(sys.argv)\n",
    "w=Windows()\n",
    "sys.exit(app.exec())\n",
    "        "
   ]
  },
  {
   "cell_type": "code",
   "execution_count": 1,
   "metadata": {},
   "outputs": [
    {
     "ename": "SystemExit",
     "evalue": "0",
     "output_type": "error",
     "traceback": [
      "An exception has occurred, use %tb to see the full traceback.\n",
      "\u001b[1;31mSystemExit\u001b[0m\u001b[1;31m:\u001b[0m 0\n"
     ]
    },
    {
     "name": "stderr",
     "output_type": "stream",
     "text": [
      "C:\\Users\\pavo_\\Anaconda3\\lib\\site-packages\\IPython\\core\\interactiveshell.py:2971: UserWarning: To exit: use 'exit', 'quit', or Ctrl-D.\n",
      "  warn(\"To exit: use 'exit', 'quit', or Ctrl-D.\", stacklevel=1)\n"
     ]
    }
   ],
   "source": [
    "import sys\n",
    "from PyQt5 import QtWidgets, QtGui\n",
    "from PyQt5.QtWidgets import QPushButton\n",
    "\n",
    "class Windows(QtWidgets.QMainWindow):\n",
    "    def __init__(self):\n",
    "        super().__init__()   ##Facilita la herencia ##Se recomienda simpre empezar asi las pantallas\n",
    "        \n",
    "        self.title= \"27 de Marzo de 2019\" #titulo de la ventana\n",
    "        self.top =350 #Donde aparece la pantalla, a que espacio de la parte de arriba\n",
    "        self.left=300 #Dondde aparece la pantalla, a que pixeles de la izquierda\n",
    "        self.width=550\n",
    "        self.height=550\n",
    "        #Características de la pantalla\n",
    "        \n",
    "        self.setWindowTitle(self.title)\n",
    "        self.setGeometry(self.top,self.left,self.width,self.height) #Siempre en este orden\n",
    "        self.lable=QtWidgets.QLabel(\"Nombre:\",self)\n",
    "        self.lable.move(100,50)\n",
    "        self.lable2=QtWidgets.QLabel(\"Carrera:\",self)\n",
    "        self.lable2.move(300,50)\n",
    "        self.linea=QtWidgets.QLineEdit(self)\n",
    "        self.linea.move(100,80)\n",
    "        self.linea2=QtWidgets.QLineEdit(self)\n",
    "        self.linea2.move(300,80)\n",
    "        \n",
    "        button2 = QPushButton('Cargar', self)\n",
    "        button3 = QPushButton('Buscar', self)\n",
    "        button4 = QPushButton('Limpiar', self)\n",
    "        #button.setToolTip('This is an example button')\n",
    "        button2.move(200,120)\n",
    "        button3.move(200,150)\n",
    "        button4.move(200,180)\n",
    "        #button.clicked.connect(self.on_click)\n",
    "        \n",
    "        self.show()\n",
    "        \n",
    "       # @pyqtSlot()\n",
    "        #def on_click(self):\n",
    "         #   print('Mensaje')\n",
    "        \n",
    "    \n",
    "app= QtWidgets.QApplication(sys.argv)\n",
    "w=Windows()\n",
    "sys.exit(app.exec())\n",
    "        "
   ]
  },
  {
   "cell_type": "code",
   "execution_count": null,
   "metadata": {},
   "outputs": [],
   "source": []
  }
 ],
 "metadata": {
  "kernelspec": {
   "display_name": "Python 3",
   "language": "python",
   "name": "python3"
  },
  "language_info": {
   "codemirror_mode": {
    "name": "ipython",
    "version": 3
   },
   "file_extension": ".py",
   "mimetype": "text/x-python",
   "name": "python",
   "nbconvert_exporter": "python",
   "pygments_lexer": "ipython3",
   "version": "3.6.5"
  }
 },
 "nbformat": 4,
 "nbformat_minor": 2
}
