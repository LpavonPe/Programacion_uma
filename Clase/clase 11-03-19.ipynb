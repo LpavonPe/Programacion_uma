{
 "cells": [
  {
   "cell_type": "code",
   "execution_count": 2,
   "metadata": {},
   "outputs": [],
   "source": [
    "import pandas as pd"
   ]
  },
  {
   "cell_type": "code",
   "execution_count": 3,
   "metadata": {},
   "outputs": [],
   "source": [
    "from pandas import ExcelWriter\n",
    "from pandas import ExcelFile"
   ]
  },
  {
   "cell_type": "code",
   "execution_count": 4,
   "metadata": {},
   "outputs": [],
   "source": [
    "cargar=open(\"Nota.txt\")"
   ]
  },
  {
   "cell_type": "code",
   "execution_count": 5,
   "metadata": {},
   "outputs": [
    {
     "name": "stdout",
     "output_type": "stream",
     "text": [
      "No hay clase el próximo lunes\n"
     ]
    }
   ],
   "source": [
    "print(cargar.read())"
   ]
  },
  {
   "cell_type": "code",
   "execution_count": 19,
   "metadata": {},
   "outputs": [],
   "source": [
    "cargar.close()"
   ]
  },
  {
   "cell_type": "code",
   "execution_count": 23,
   "metadata": {},
   "outputs": [
    {
     "data": {
      "text/plain": [
       "29"
      ]
     },
     "execution_count": 23,
     "metadata": {},
     "output_type": "execute_result"
    }
   ],
   "source": [
    "escribir=open(\"Nota.txt\",mode=\"w\")\n",
    "escribir.write(\"No hay clase el próximo lunes\")"
   ]
  },
  {
   "cell_type": "code",
   "execution_count": 29,
   "metadata": {},
   "outputs": [
    {
     "ename": "FileExistsError",
     "evalue": "[Errno 17] File exists: 'nuevo.txt'",
     "output_type": "error",
     "traceback": [
      "\u001b[1;31m---------------------------------------------------------------------------\u001b[0m",
      "\u001b[1;31mFileExistsError\u001b[0m                           Traceback (most recent call last)",
      "\u001b[1;32m<ipython-input-29-2d55be2df266>\u001b[0m in \u001b[0;36m<module>\u001b[1;34m()\u001b[0m\n\u001b[1;32m----> 1\u001b[1;33m \u001b[0mnuevo\u001b[0m\u001b[1;33m=\u001b[0m\u001b[0mopen\u001b[0m\u001b[1;33m(\u001b[0m\u001b[1;34m\"nuevo.txt\"\u001b[0m\u001b[1;33m,\u001b[0m\u001b[0mmode\u001b[0m\u001b[1;33m=\u001b[0m\u001b[1;34m\"x\"\u001b[0m\u001b[1;33m)\u001b[0m\u001b[1;33m\u001b[0m\u001b[0m\n\u001b[0m",
      "\u001b[1;31mFileExistsError\u001b[0m: [Errno 17] File exists: 'nuevo.txt'"
     ]
    }
   ],
   "source": [
    "nuevo=open(\"nuevo.txt\",mode=\"x\")"
   ]
  },
  {
   "cell_type": "code",
   "execution_count": 33,
   "metadata": {},
   "outputs": [],
   "source": [
    "nuevo=open(\"nuevo.txt\",mode=\"r+\")\n",
    "nuevo.write(\"El examen es en 3 semanas\")\n",
    "nuevo.write(\"Entregan avance en 3 semanas\")\n",
    "nuevo.close()"
   ]
  },
  {
   "cell_type": "code",
   "execution_count": 6,
   "metadata": {},
   "outputs": [],
   "source": [
    "tabla=pd.read_excel(\"Base salarios.xls\",sheet_name=\"Base de datos\")"
   ]
  },
  {
   "cell_type": "code",
   "execution_count": 81,
   "metadata": {},
   "outputs": [
    {
     "ename": "ValueError",
     "evalue": "DatetimeIndex() must be called with a collection of some kind, Timestamp('1982-04-05 00:00:00') was passed",
     "output_type": "error",
     "traceback": [
      "\u001b[1;31m---------------------------------------------------------------------------\u001b[0m",
      "\u001b[1;31mValueError\u001b[0m                                Traceback (most recent call last)",
      "\u001b[1;32m<ipython-input-81-e43d53229b45>\u001b[0m in \u001b[0;36m<module>\u001b[1;34m()\u001b[0m\n\u001b[0;32m      1\u001b[0m \u001b[0mtabla\u001b[0m\u001b[1;33m.\u001b[0m\u001b[0mhead\u001b[0m\u001b[1;33m(\u001b[0m\u001b[1;36m2\u001b[0m\u001b[1;33m)\u001b[0m\u001b[1;33m\u001b[0m\u001b[0m\n\u001b[1;32m----> 2\u001b[1;33m \u001b[0mpd\u001b[0m\u001b[1;33m.\u001b[0m\u001b[0mDatetimeIndex\u001b[0m\u001b[1;33m(\u001b[0m\u001b[0mtabla\u001b[0m\u001b[1;33m[\u001b[0m\u001b[1;34m'Fch comienzo'\u001b[0m\u001b[1;33m]\u001b[0m\u001b[1;33m[\u001b[0m\u001b[1;36m0\u001b[0m\u001b[1;33m]\u001b[0m\u001b[1;33m)\u001b[0m\u001b[1;33m\u001b[0m\u001b[0m\n\u001b[0m",
      "\u001b[1;32m~\\Anaconda3\\lib\\site-packages\\pandas\\core\\indexes\\datetimes.py\u001b[0m in \u001b[0;36m__new__\u001b[1;34m(cls, data, freq, start, end, periods, tz, normalize, closed, ambiguous, dayfirst, yearfirst, dtype, copy, name, verify_integrity)\u001b[0m\n\u001b[0;32m    385\u001b[0m                 raise ValueError('DatetimeIndex() must be called with a '\n\u001b[0;32m    386\u001b[0m                                  \u001b[1;34m'collection of some kind, %s was passed'\u001b[0m\u001b[1;33m\u001b[0m\u001b[0m\n\u001b[1;32m--> 387\u001b[1;33m                                  % repr(data))\n\u001b[0m\u001b[0;32m    388\u001b[0m             \u001b[1;31m# other iterable of some kind\u001b[0m\u001b[1;33m\u001b[0m\u001b[1;33m\u001b[0m\u001b[0m\n\u001b[0;32m    389\u001b[0m             \u001b[1;32mif\u001b[0m \u001b[1;32mnot\u001b[0m \u001b[0misinstance\u001b[0m\u001b[1;33m(\u001b[0m\u001b[0mdata\u001b[0m\u001b[1;33m,\u001b[0m \u001b[1;33m(\u001b[0m\u001b[0mlist\u001b[0m\u001b[1;33m,\u001b[0m \u001b[0mtuple\u001b[0m\u001b[1;33m)\u001b[0m\u001b[1;33m)\u001b[0m\u001b[1;33m:\u001b[0m\u001b[1;33m\u001b[0m\u001b[0m\n",
      "\u001b[1;31mValueError\u001b[0m: DatetimeIndex() must be called with a collection of some kind, Timestamp('1982-04-05 00:00:00') was passed"
     ]
    }
   ],
   "source": [
    "tabla.head(2)\n",
    "pd.DatetimeIndex(tabla['Fch comienzo'][0])"
   ]
  },
  {
   "cell_type": "code",
   "execution_count": 7,
   "metadata": {},
   "outputs": [
    {
     "data": {
      "text/html": [
       "<div>\n",
       "<style scoped>\n",
       "    .dataframe tbody tr th:only-of-type {\n",
       "        vertical-align: middle;\n",
       "    }\n",
       "\n",
       "    .dataframe tbody tr th {\n",
       "        vertical-align: top;\n",
       "    }\n",
       "\n",
       "    .dataframe thead th {\n",
       "        text-align: right;\n",
       "    }\n",
       "</style>\n",
       "<table border=\"1\" class=\"dataframe\">\n",
       "  <thead>\n",
       "    <tr style=\"text-align: right;\">\n",
       "      <th></th>\n",
       "      <th>ID empleado</th>\n",
       "      <th>Apellido</th>\n",
       "      <th>Nombre</th>\n",
       "      <th>Seccional</th>\n",
       "      <th>Facultad</th>\n",
       "      <th>Cargo</th>\n",
       "      <th>Salario</th>\n",
       "      <th>Fch comienzo</th>\n",
       "      <th>Fch nacimiento</th>\n",
       "    </tr>\n",
       "  </thead>\n",
       "  <tbody>\n",
       "    <tr>\n",
       "      <th>0</th>\n",
       "      <td>1968</td>\n",
       "      <td>Burgos</td>\n",
       "      <td>Jeronimo</td>\n",
       "      <td>Palmira</td>\n",
       "      <td>Administración</td>\n",
       "      <td>Administrativo</td>\n",
       "      <td>3200000</td>\n",
       "      <td>1982-04-05</td>\n",
       "      <td>1951-09-28</td>\n",
       "    </tr>\n",
       "    <tr>\n",
       "      <th>1</th>\n",
       "      <td>1674</td>\n",
       "      <td>Villegas</td>\n",
       "      <td>Estefania</td>\n",
       "      <td>Palmira</td>\n",
       "      <td>Administración</td>\n",
       "      <td>Docente</td>\n",
       "      <td>3200000</td>\n",
       "      <td>1992-03-25</td>\n",
       "      <td>1964-01-17</td>\n",
       "    </tr>\n",
       "    <tr>\n",
       "      <th>2</th>\n",
       "      <td>1516</td>\n",
       "      <td>Fernandez</td>\n",
       "      <td>Guillermo</td>\n",
       "      <td>Palmira</td>\n",
       "      <td>Administración</td>\n",
       "      <td>Docente</td>\n",
       "      <td>4500000</td>\n",
       "      <td>1985-03-06</td>\n",
       "      <td>1963-06-26</td>\n",
       "    </tr>\n",
       "    <tr>\n",
       "      <th>3</th>\n",
       "      <td>1330</td>\n",
       "      <td>Ramirez</td>\n",
       "      <td>Eliana</td>\n",
       "      <td>Palmira</td>\n",
       "      <td>Administración</td>\n",
       "      <td>Docente</td>\n",
       "      <td>3200000</td>\n",
       "      <td>1989-02-14</td>\n",
       "      <td>1964-05-17</td>\n",
       "    </tr>\n",
       "    <tr>\n",
       "      <th>4</th>\n",
       "      <td>1657</td>\n",
       "      <td>Carmona</td>\n",
       "      <td>Jose</td>\n",
       "      <td>Palmira</td>\n",
       "      <td>Administración</td>\n",
       "      <td>Docente</td>\n",
       "      <td>3200000</td>\n",
       "      <td>1987-12-06</td>\n",
       "      <td>1963-10-10</td>\n",
       "    </tr>\n",
       "    <tr>\n",
       "      <th>5</th>\n",
       "      <td>1573</td>\n",
       "      <td>De santis</td>\n",
       "      <td>Marcela</td>\n",
       "      <td>Palmira</td>\n",
       "      <td>Administración</td>\n",
       "      <td>Aux. Administrativo</td>\n",
       "      <td>1500000</td>\n",
       "      <td>1988-07-07</td>\n",
       "      <td>1960-05-31</td>\n",
       "    </tr>\n",
       "    <tr>\n",
       "      <th>6</th>\n",
       "      <td>1658</td>\n",
       "      <td>Franco</td>\n",
       "      <td>Daniela</td>\n",
       "      <td>Palmira</td>\n",
       "      <td>Administración</td>\n",
       "      <td>Docente</td>\n",
       "      <td>3200000</td>\n",
       "      <td>1988-06-06</td>\n",
       "      <td>1963-10-14</td>\n",
       "    </tr>\n",
       "    <tr>\n",
       "      <th>7</th>\n",
       "      <td>1078</td>\n",
       "      <td>Cortes</td>\n",
       "      <td>Rafael</td>\n",
       "      <td>Palmira</td>\n",
       "      <td>Diseño</td>\n",
       "      <td>Administrativo</td>\n",
       "      <td>4200000</td>\n",
       "      <td>1986-04-01</td>\n",
       "      <td>1962-11-21</td>\n",
       "    </tr>\n",
       "    <tr>\n",
       "      <th>8</th>\n",
       "      <td>1695</td>\n",
       "      <td>Berrio</td>\n",
       "      <td>Camilo</td>\n",
       "      <td>Palmira</td>\n",
       "      <td>Diseño</td>\n",
       "      <td>Docente</td>\n",
       "      <td>3200000</td>\n",
       "      <td>1984-10-20</td>\n",
       "      <td>1960-01-05</td>\n",
       "    </tr>\n",
       "    <tr>\n",
       "      <th>9</th>\n",
       "      <td>1285</td>\n",
       "      <td>Arias</td>\n",
       "      <td>Francisco</td>\n",
       "      <td>Palmira</td>\n",
       "      <td>Diseño</td>\n",
       "      <td>Docente</td>\n",
       "      <td>3200000</td>\n",
       "      <td>1984-12-27</td>\n",
       "      <td>1962-12-22</td>\n",
       "    </tr>\n",
       "  </tbody>\n",
       "</table>\n",
       "</div>"
      ],
      "text/plain": [
       "   ID empleado   Apellido     Nombre Seccional        Facultad  \\\n",
       "0         1968     Burgos   Jeronimo   Palmira  Administración   \n",
       "1         1674   Villegas  Estefania   Palmira  Administración   \n",
       "2         1516  Fernandez  Guillermo   Palmira  Administración   \n",
       "3         1330    Ramirez     Eliana   Palmira  Administración   \n",
       "4         1657    Carmona       Jose   Palmira  Administración   \n",
       "5         1573  De santis    Marcela   Palmira  Administración   \n",
       "6         1658     Franco    Daniela   Palmira  Administración   \n",
       "7         1078     Cortes     Rafael   Palmira          Diseño   \n",
       "8         1695     Berrio     Camilo   Palmira          Diseño   \n",
       "9         1285      Arias  Francisco   Palmira          Diseño   \n",
       "\n",
       "                 Cargo  Salario Fch comienzo Fch nacimiento  \n",
       "0       Administrativo  3200000   1982-04-05     1951-09-28  \n",
       "1              Docente  3200000   1992-03-25     1964-01-17  \n",
       "2              Docente  4500000   1985-03-06     1963-06-26  \n",
       "3              Docente  3200000   1989-02-14     1964-05-17  \n",
       "4              Docente  3200000   1987-12-06     1963-10-10  \n",
       "5  Aux. Administrativo  1500000   1988-07-07     1960-05-31  \n",
       "6              Docente  3200000   1988-06-06     1963-10-14  \n",
       "7       Administrativo  4200000   1986-04-01     1962-11-21  \n",
       "8              Docente  3200000   1984-10-20     1960-01-05  \n",
       "9              Docente  3200000   1984-12-27     1962-12-22  "
      ]
     },
     "execution_count": 7,
     "metadata": {},
     "output_type": "execute_result"
    }
   ],
   "source": [
    "tabla.head(10)"
   ]
  },
  {
   "cell_type": "code",
   "execution_count": 83,
   "metadata": {},
   "outputs": [
    {
     "data": {
      "text/plain": [
       "'Administrativo'"
      ]
     },
     "execution_count": 83,
     "metadata": {},
     "output_type": "execute_result"
    }
   ],
   "source": [
    "tabla['Cargo'][0]"
   ]
  },
  {
   "cell_type": "code",
   "execution_count": 15,
   "metadata": {},
   "outputs": [],
   "source": [
    "cargo=[]\n",
    "nombres=[]\n",
    "for i in tabla['Cargo']:\n",
    "    cargo.append(i)\n",
    "for i in range(len(cargo)):\n",
    "    if cargo[i] == \"Docente\":\n",
    "        nombres.append(tabla['Nombre'][i]+\" \"+tabla['Apellido'][i])"
   ]
  },
  {
   "cell_type": "code",
   "execution_count": 16,
   "metadata": {},
   "outputs": [
    {
     "name": "stdout",
     "output_type": "stream",
     "text": [
      "['Estefania Villegas', 'Guillermo Fernandez', 'Eliana Ramirez', 'Jose Carmona', 'Daniela Franco', 'Camilo Berrio', 'Francisco Arias', 'Antonio Merizalde', 'David Lemus', 'Virginia Saldarriaga', 'Sergio Posada', 'Jorge Zea ', 'Mariana Diaz ', 'Brenda Aguirre', 'Gloria Tamayo', 'Andrea Carmona ', 'Lucero Diaz ', 'Daniel Ospina', 'Alberto Peláez', 'Elena Perez', 'Sebastian Carmona', 'Oscar Cifuentes', 'Santiago Jaramillo', 'Luis Melano', 'Tammy Mendez', 'Luisa Sierra', 'Sara Vallejo', 'Alexandra Guerrero', 'Lisa Guerra', 'Ana Maria Rodríguez ', 'Sofia Marulanda', 'Paula Palacio', 'Jesus Bermudez', 'Luisa Granda', 'Amalia Vergara', 'Julian Duque', 'Maritza Muñoz', 'Andrés Peláez', 'Miguel Sanchez', 'Carolina Cano', 'Jessica Marquez', 'Samuel Rico', 'Gustavo Mendez', 'Julieth Osorio', 'Lina Villamizar', 'Amalia Gutierrez', 'Raquel Medina', 'Gonzalo Betancur', 'Hilda Rodriguez', 'Victoria Hincapie', 'Pablo Rojas ', 'Stepania Zapata', 'Manuel Toro', 'Barbara Henao', 'Leonardo Vasquez', 'Juliana Castrillón', 'Elisa Mota', 'Carlos Posada', 'Mauricio Arango', 'Adriana Hoyos', 'Cathy Higuita', 'Catalina Osorio', 'Mariana Gomez']\n"
     ]
    }
   ],
   "source": [
    "print(nombres)"
   ]
  },
  {
   "cell_type": "code",
   "execution_count": null,
   "metadata": {},
   "outputs": [],
   "source": []
  }
 ],
 "metadata": {
  "kernelspec": {
   "display_name": "Python 3",
   "language": "python",
   "name": "python3"
  },
  "language_info": {
   "codemirror_mode": {
    "name": "ipython",
    "version": 3
   },
   "file_extension": ".py",
   "mimetype": "text/x-python",
   "name": "python",
   "nbconvert_exporter": "python",
   "pygments_lexer": "ipython3",
   "version": "3.6.5"
  }
 },
 "nbformat": 4,
 "nbformat_minor": 2
}
