{
 "cells": [
  {
   "cell_type": "code",
   "execution_count": 2,
   "metadata": {},
   "outputs": [],
   "source": [
    "alumno={\"Nombre\": \"Luis\", \"Apellidos\":\"Pavon Perez\",\"Semestre\":\"Tercero\", \"Edad\": 25}"
   ]
  },
  {
   "cell_type": "code",
   "execution_count": 19,
   "metadata": {},
   "outputs": [
    {
     "name": "stdout",
     "output_type": "stream",
     "text": [
      "Luis\n",
      "Pavon Perez\n",
      "Tercero\n",
      "20\n",
      "luis.pavon.lmpp@gmail.com\n",
      "Calle : Pradera\n",
      "Número : 134\n",
      "Colonia : La virgen\n",
      "Municipio : Metepec\n",
      "Estado : Estado de México\n",
      "Código Postal : 52149\n"
     ]
    }
   ],
   "source": [
    "alumno[\"Correo\"]=\"luis.pavon.lmpp@gmail.com\"\n",
    "alumno['Edad']=20\n",
    "for k in alumno:\n",
    "    print(alumno[k])\n",
    "    \n",
    "direccion={\"Calle\":\"Pradera\",\"Número\":134,\"Colonia\": \"La virgen\", \"Municipio\":\"Metepec\",\"Estado\": \"Estado de México\",\"Código Postal\": 52149}\n",
    "for k in direccion:\n",
    "    print(k, \":\", direccion[k])"
   ]
  },
  {
   "cell_type": "code",
   "execution_count": 28,
   "metadata": {},
   "outputs": [
    {
     "name": "stdout",
     "output_type": "stream",
     "text": [
      "De plátanos se tienen  10 piezas, lo que representa $  250\n",
      "De Limón se tienen  15 piezas, lo que representa $  315\n",
      "De naranja se tienen  50 piezas, lo que representa $  850\n",
      "De sandía se tienen  13 piezas, lo que representa $  650\n"
     ]
    },
    {
     "data": {
      "text/plain": [
       "2065"
      ]
     },
     "execution_count": 28,
     "metadata": {},
     "output_type": "execute_result"
    }
   ],
   "source": [
    "precios={}\n",
    "precios[\"plátanos\"]=25\n",
    "precios[\"Limón\"]=21\n",
    "precios[\"naranja\"]=17\n",
    "precios[\"sandía\"]=50\n",
    "precios.keys()\n",
    "cantidad={\"plátanos\": 10, \"Limón\": 15, \"naranja\":50, \"sandía\":13}\n",
    "caja=0\n",
    "for k in precios:\n",
    "    print(\"De\", k ,\"se tienen \", cantidad[k], \"piezas, lo que representa $ \",precios[k]*cantidad[k])\n",
    "    caja+=precios[k]*cantidad[k]\n",
    "caja"
   ]
  },
  {
   "cell_type": "code",
   "execution_count": 26,
   "metadata": {},
   "outputs": [
    {
     "data": {
      "text/plain": [
       "2065"
      ]
     },
     "execution_count": 26,
     "metadata": {},
     "output_type": "execute_result"
    }
   ],
   "source": [
    "25*10+21*15+17*50+50*13"
   ]
  }
 ],
 "metadata": {
  "kernelspec": {
   "display_name": "Python 3",
   "language": "python",
   "name": "python3"
  },
  "language_info": {
   "codemirror_mode": {
    "name": "ipython",
    "version": 3
   },
   "file_extension": ".py",
   "mimetype": "text/x-python",
   "name": "python",
   "nbconvert_exporter": "python",
   "pygments_lexer": "ipython3",
   "version": "3.6.5"
  }
 },
 "nbformat": 4,
 "nbformat_minor": 2
}
