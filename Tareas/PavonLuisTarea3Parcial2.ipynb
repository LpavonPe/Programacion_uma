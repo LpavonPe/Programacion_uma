{
 "cells": [
  {
   "cell_type": "code",
   "execution_count": 29,
   "metadata": {},
   "outputs": [],
   "source": [
    "import pandas as pd\n",
    "from pandas import ExcelWriter\n",
    "from pandas import ExcelFile"
   ]
  },
  {
   "cell_type": "code",
   "execution_count": 30,
   "metadata": {},
   "outputs": [],
   "source": [
    "def cargar_base(x,hojas=1):\n",
    "    if hojas!= 1:\n",
    "        if hojas == 2:\n",
    "            order_df=pd.read_excel(x,sheet_name=\"Orders\")\n",
    "            returns_df=pd.read_excel(x, sheet_name=\"Returns\")\n",
    "            return order_df\n",
    "        if hojas == 3:\n",
    "            order_df=pd.read_excel(x,sheet_name=\"Orders\")\n",
    "            returns_df=pd.read_excel(x, sheet_name=\"Returns\")    \n",
    "            people_df=pd.read_excel(x,sheet_name=\"People\")\n",
    "            return order_df, returns_df, people_df\n",
    "        elif hojas>3:\n",
    "            raise ValueError(\"El documento solo tiene tres hojas\")\n",
    "    else:\n",
    "        order_df=pd.read_excel(x,sheet_name=\"Orders\")\n",
    "        return order_df\n"
   ]
  },
  {
   "cell_type": "code",
   "execution_count": 31,
   "metadata": {},
   "outputs": [],
   "source": [
    "datos=cargar_base(\"Sample - Superstore.xls\")"
   ]
  },
  {
   "cell_type": "code",
   "execution_count": 32,
   "metadata": {},
   "outputs": [],
   "source": [
    "def state():\n",
    "    if \"datos\" in dir():\n",
    "        order_df=datos\n",
    "    else:\n",
    "        order_df=cargar_base(\"Sample - Superstore.xls\")\n",
    "    state_list=[]\n",
    "    for i in range(len(order_df['State'])):\n",
    "        state_list.append(order_df['State'][i])\n",
    "    return state_list"
   ]
  },
  {
   "cell_type": "code",
   "execution_count": 33,
   "metadata": {},
   "outputs": [],
   "source": [
    "def num_pedidos(x):\n",
    "    if \"datos\" in dir():\n",
    "        order_df=datos\n",
    "    else:\n",
    "        order_df=cargar_base(\"Sample - Superstore.xls\")\n",
    "    state_list=[]\n",
    "    clientes_lista=[]\n",
    "    num=0\n",
    "    for i in range(len(order_df[\"Customer Name\"])):\n",
    "        if order_df[\"Customer Name\"][i] == x:\n",
    "            num+=1\n",
    "    return num\n",
    "    "
   ]
  },
  {
   "cell_type": "code",
   "execution_count": 63,
   "metadata": {},
   "outputs": [],
   "source": [
    "def clientes_ciudad(x):\n",
    "    if \"datos\" in dir():\n",
    "        order_df=datos\n",
    "    else:\n",
    "        order_df=cargar_base(\"Sample - Superstore.xls\")\n",
    "    clientes_prev=[]\n",
    "    for i in range(len(order_df['City'])):\n",
    "        if order_df['City'][i] == x:\n",
    "            clientes_prev.append(order_df['Customer Name'][i])\n",
    "        set_clientes=set(clientes_prev)\n",
    "        clientes=list(set_clientes)\n",
    "    return clientes"
   ]
  },
  {
   "cell_type": "code",
   "execution_count": 35,
   "metadata": {},
   "outputs": [],
   "source": [
    "def category(x):\n",
    "    if \"datos\" in dir():\n",
    "        order_df=datos\n",
    "    else:\n",
    "        order_df=cargar_base(\"Sample - Superstore.xls\")\n",
    "    Customer_Name_prev=[]\n",
    "    Customer_ID_prev=[]\n",
    "    State_prev=[]\n",
    "    City_prev=[]\n",
    "    for i in range(len(order_df['Category'])):\n",
    "        if order_df['Category'][i] == x:\n",
    "            Customer_Name_prev.append(order_df['Customer Name'][i])\n",
    "            Customer_ID_prev.append(order_df['Customer ID'][i])\n",
    "            State_prev.append(order_df['State'][i])\n",
    "            City_prev.append(order_df['City'][i])\n",
    "    con_Customer_Name=set(Customer_Name_prev)\n",
    "    con_Customer_ID=set(Customer_ID_prev)\n",
    "    con_State=set(State_prev)\n",
    "    con_City=set(City_prev)\n",
    "    Customer_Name=list(Customer_Name_prev)\n",
    "    Customer_ID=list(Customer_ID_prev)\n",
    "    State=list(State_prev)\n",
    "    City=list(City_prev)\n",
    "    datos_exl={\"Customer ID\":Customer_ID,\"Customer Name\":Customer_Name,\"State\":State,\"City\":City}\n",
    "    datos_df=pd.DataFrame(data=datos_exl)\n",
    "    with pd.ExcelWriter(\"Resultado.xls\") as ex:\n",
    "        datos_df.to_excel(ex,sheet_name=\"Hoja1\")\n",
    "    "
   ]
  }
 ],
 "metadata": {
  "kernelspec": {
   "display_name": "Python 3",
   "language": "python",
   "name": "python3"
  },
  "language_info": {
   "codemirror_mode": {
    "name": "ipython",
    "version": 3
   },
   "file_extension": ".py",
   "mimetype": "text/x-python",
   "name": "python",
   "nbconvert_exporter": "python",
   "pygments_lexer": "ipython3",
   "version": "3.6.5"
  }
 },
 "nbformat": 4,
 "nbformat_minor": 2
}
