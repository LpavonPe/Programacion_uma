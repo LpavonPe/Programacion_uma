{
 "cells": [
  {
   "cell_type": "code",
   "execution_count": 7,
   "metadata": {},
   "outputs": [
    {
     "name": "stdout",
     "output_type": "stream",
     "text": [
      "te veo\n",
      "La frase ,te veo, es de la pelicula sexto sentido\n"
     ]
    }
   ],
   "source": [
    "frase=\"veo gente muerta\" #Frase inicial\n",
    "lista1=list(frase) #Pasamos la frase a una lista\n",
    "for i in range(7): #Quitamos las 7 ultimas letras de la frase\n",
    "    lista1.pop()\n",
    "part1=lista1[0:3] #Tomamos la palabra \"veo\" y la guardamos\n",
    "part2=lista1[7:9] #Tomamos la palabra \"te\" y la guardamos\n",
    "espacio=[lista1[3]] #Guadamos el espacio que queremos\n",
    "lista_frase=[] #hacemos una lista vacia en la cual guardaremos la frase que queremos\n",
    "lista_frase=part2+espacio+part1 #Guardamos las palabras que queremos en la lista para que formen la frase que queremos \n",
    "separador=\"\" #Creamos un string temporal donde guardaremos la frase que esta en nuestra lista\n",
    "resultado=separador.join(lista_frase) #Guardamos la  frase que tenemos en un strins\n",
    "print(resultado) #Imprimimos la frase que queremos\n",
    "print(f\"La frase ,{resultado}, es de la pelicula sexto sentido\")"
   ]
  }
 ],
 "metadata": {
  "kernelspec": {
   "display_name": "Python 3",
   "language": "python",
   "name": "python3"
  },
  "language_info": {
   "codemirror_mode": {
    "name": "ipython",
    "version": 3
   },
   "file_extension": ".py",
   "mimetype": "text/x-python",
   "name": "python",
   "nbconvert_exporter": "python",
   "pygments_lexer": "ipython3",
   "version": "3.6.5"
  }
 },
 "nbformat": 4,
 "nbformat_minor": 2
}
