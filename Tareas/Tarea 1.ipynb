{
 "cells": [
  {
   "cell_type": "code",
   "execution_count": 90,
   "metadata": {},
   "outputs": [],
   "source": [
    "a=[34, 79, 21, 54, 23, 96, 44, 64, 89, 8, 86, 44, 8, 79, 92, 2, 42, 83, 95, 0, 50]\n",
    "#Problema a\n",
    "cuadrados=[]\n",
    "for i in a:\n",
    "    cuadrados.append(i)\n",
    "    \n",
    "#Problema b (Suma)\n",
    "suma=0\n",
    "for i in cuadrados:\n",
    "    suma+=i\n",
    "    \n",
    "#Problema c (Promedio)\n",
    "\n",
    "promedio= suma/(len(a))\n",
    "\n",
    "#Problema d (Menor a mayor)\n",
    "for j in range(len(a)):  ##Hacemos n veces el proceso de acomodar las parejas para asegurar que toda la lista este en orden\n",
    "    for i in range(len(a)-1): #Recorremos la lista entrada por entrada hasta su penultimo elemento\n",
    "        if a[i]>a[i+1]:     # Establecemos la condición y verificamos si, por parejas, la entrada i es mayo que la entrada i+1\n",
    "            menor_temp=a[i+1] #Si la entrada i+1 es menor, la guardamos en una variable temporal\n",
    "            a[i+1]=a[i]     #Igualamos el valor de mayor en la posición i+1\n",
    "            a[i]=menor_temp #Ponemos el valor menor previamente guardado en la posición i\n",
    "            \n",
    "#Problema 6 (mayor a menor)\n",
    "for j in range(len(a)):  \n",
    "    for i in range(len(a)-1): \n",
    "        if a[i]<a[i+1]:    \n",
    "            mayor_temp=a[i+1] \n",
    "            a[i+1]=a[i]     \n",
    "            a[i]=mayor_temp \n",
    "#Misma logica que el ejercicio 4 pero ahora de mayor a menor    \n",
    "    \n",
    "#Problema clase(Primos)    \n",
    "x=[3,9,21,7,63,101,49,87]\n",
    "primos=[] #Creamos una lista para guardar los números primos\n",
    "for i in x:#Recorremos cada elemento de mi lista original\n",
    "    multiplos=[] #Creamos una lista temporal para guardar los multiplos\n",
    "    for c in range(1,i+1): #Recorremos todos los enteros desde 1 hasta mi número i\n",
    "        if i % c == 0: #Si el numero es multiplo de mi numero lo guardamos en mi lista temporal\n",
    "            multiplos.append(c)\n",
    "    if len(multiplos) ==2: #Verificamos la definición de número primo de solo tener 2 multiplos\n",
    "            primos.append(i) #Agregamos mi número primo a la lista\n"
   ]
  }
 ],
 "metadata": {
  "kernelspec": {
   "display_name": "Python 3",
   "language": "python",
   "name": "python3"
  },
  "language_info": {
   "codemirror_mode": {
    "name": "ipython",
    "version": 3
   },
   "file_extension": ".py",
   "mimetype": "text/x-python",
   "name": "python",
   "nbconvert_exporter": "python",
   "pygments_lexer": "ipython3",
   "version": "3.6.5"
  }
 },
 "nbformat": 4,
 "nbformat_minor": 2
}
