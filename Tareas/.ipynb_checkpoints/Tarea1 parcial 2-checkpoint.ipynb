{
 "cells": [
  {
   "cell_type": "code",
   "execution_count": 3,
   "metadata": {},
   "outputs": [],
   "source": [
    "def triangulo(a,b,c):\n",
    "    if a==c and b==c:\n",
    "        print(\"Equilátero\")\n",
    "    elif a==c and b!=c or b==c and a!=c or a==b and a!=c:\n",
    "        print(\"Isoceles\")\n",
    "    else:\n",
    "        print(\"Escaleno\")"
   ]
  },
  {
   "cell_type": "code",
   "execution_count": 16,
   "metadata": {},
   "outputs": [],
   "source": [
    "def bono(x):\n",
    "    if x>0:\n",
    "        bono=0\n",
    "        if x<1000:\n",
    "            return .01\n",
    "        elif x>=1000 and x<4000:\n",
    "            return .03\n",
    "        elif x>=4000 and x<8000:\n",
    "            return .05\n",
    "        elif x>=8000:\n",
    "            return.07\n",
    "    else:\n",
    "        return(\"El monto debe ser positivo\")"
   ]
  },
  {
   "cell_type": "code",
   "execution_count": 31,
   "metadata": {},
   "outputs": [],
   "source": [
    "def vocales(x):\n",
    "    if type(x) ==str:\n",
    "        x.lower()\n",
    "        na=0\n",
    "        ne=0\n",
    "        ni=0\n",
    "        no=0\n",
    "        nu=0\n",
    "        ls=list(x)\n",
    "        for i in ls:\n",
    "            if i==\"a\":\n",
    "                na+=1\n",
    "            elif i==\"e\":\n",
    "                ne+=1\n",
    "            elif i ==\"i\":\n",
    "                ni+=1\n",
    "            elif i ==\"o\":\n",
    "                no+=1\n",
    "            elif i ==\"u\":\n",
    "                nu+=1\n",
    "    print(\"a:\",na,\"\\n\", \"e:\",ne,\"\\n\",\"i:\",ni,\"\\n\",\"o:\",no,\"\\n\",\"u:\",nu)"
   ]
  },
  {
   "cell_type": "code",
   "execution_count": 46,
   "metadata": {},
   "outputs": [],
   "source": [
    "def multiplo(n,m):\n",
    "    if n%m ==0:return True"
   ]
  },
  {
   "cell_type": "code",
   "execution_count": 52,
   "metadata": {},
   "outputs": [],
   "source": [
    "def suma_cuadrados(x):\n",
    "    suma=0\n",
    "    for i in range(x+1):\n",
    "        suma+=i**2\n",
    "    return suma"
   ]
  },
  {
   "cell_type": "code",
   "execution_count": 8,
   "metadata": {},
   "outputs": [],
   "source": [
    "def repetidos(x):\n",
    "    x.sort()\n",
    "    rep=0\n",
    "    for i in range(len(x)-1):\n",
    "        if x[i]==x[i+1]:\n",
    "            rep=1\n",
    "    if rep==1:\n",
    "        return True\n",
    "    else:\n",
    "        return False\n",
    "    "
   ]
  },
  {
   "cell_type": "code",
   "execution_count": 77,
   "metadata": {},
   "outputs": [],
   "source": [
    "def factorial(x):\n",
    "    fact=1\n",
    "    if x==0:\n",
    "        return 1\n",
    "    elif x<0:\n",
    "        return(\"El factorial para números negativos no esta definido\")\n",
    "    elif x>0:\n",
    "        for i in range(1,x+1):\n",
    "            fact=fact*i\n",
    "        return fact\n"
   ]
  },
  {
   "cell_type": "code",
   "execution_count": 80,
   "metadata": {},
   "outputs": [],
   "source": [
    "def unidad(x):\n",
    "    if x//10 ==0:\n",
    "        return True\n",
    "    else:\n",
    "        return False"
   ]
  },
  {
   "cell_type": "code",
   "execution_count": 84,
   "metadata": {},
   "outputs": [],
   "source": [
    "def area_poligono(n_lados,m_lado,apotema):\n",
    "    perimetro=n_lados*m_lado\n",
    "    area=(perimetro*apotema)/2\n",
    "    return area"
   ]
  },
  {
   "cell_type": "code",
   "execution_count": 29,
   "metadata": {},
   "outputs": [],
   "source": [
    "def valida(x):\n",
    "    xlist=list(x)\n",
    "    m_err=\"Contraseña Invalida\"\n",
    "    if len(xlist)<6 or len(xlist)>12:\n",
    "        return(m_err)\n",
    "    else:\n",
    "        n_mayus=0\n",
    "        for i in xlist:\n",
    "            if i.isupper() == True:\n",
    "                n_mayus+=1\n",
    "        if n_mayus<2:\n",
    "            return(m_err)\n",
    "        else:\n",
    "            n_num=0\n",
    "            for i in xlist:\n",
    "                if i.isnumeric() ==True:\n",
    "                    n_num+=1\n",
    "            if n_num<2:\n",
    "                return(m_err)\n",
    "            else:\n",
    "                esp=[\"!\", \"#\",\"$\",\"%\",\"&\",\"@\"]\n",
    "                n_esp=0\n",
    "                for i in xlist:\n",
    "                    if i in esp:\n",
    "                        n_esp+=1\n",
    "                if n_esp<1:\n",
    "                    return(m_err)\n",
    "                else:\n",
    "                    return(\"Contraseña Valida\")"
   ]
  }
 ],
 "metadata": {
  "kernelspec": {
   "display_name": "Python 3",
   "language": "python",
   "name": "python3"
  },
  "language_info": {
   "codemirror_mode": {
    "name": "ipython",
    "version": 3
   },
   "file_extension": ".py",
   "mimetype": "text/x-python",
   "name": "python",
   "nbconvert_exporter": "python",
   "pygments_lexer": "ipython3",
   "version": "3.6.5"
  }
 },
 "nbformat": 4,
 "nbformat_minor": 2
}
