{
 "cells": [
  {
   "cell_type": "code",
   "execution_count": 6,
   "metadata": {},
   "outputs": [],
   "source": [
    "import numpy as np\n",
    "import random\n"
   ]
  },
  {
   "cell_type": "code",
   "execution_count": 53,
   "metadata": {
    "scrolled": true
   },
   "outputs": [
    {
     "name": "stdout",
     "output_type": "stream",
     "text": [
      "[[41, 19, 19, 48, 30, 40, 1, 18, 16, 41, 24, 8, 48, 50, 38], [20, 8, 36, 50, 42, 6, 4, 9, 31, 32, 6, 3, 15, 34, 6], [37, 39, 49, 33, 13, 1, 41, 6, 1, 46, 14, 11, 15, 31, 47], [23, 1, 22, 3, 45, 21, 31, 2, 29, 34, 17, 47, 20, 39, 22], [15, 24, 19, 5, 17, 42, 34, 18, 2, 34, 13, 28, 40, 11, 16], [9, 12, 29, 35, 28, 45, 13, 20, 42, 10, 24, 37, 5, 40, 45], [24, 18, 25, 17, 40, 10, 24, 34, 50, 41, 3, 11, 3, 37, 25], [15, 24, 29, 42, 40, 7, 46, 35, 34, 3, 42, 27, 30, 10, 24], [46, 36, 36, 3, 34, 43, 48, 48, 42, 12, 32, 5, 36, 10, 1], [29, 23, 49, 8, 26, 11, 8, 43, 27, 1, 21, 21, 5, 7, 7], [46, 22, 7, 11, 3, 5, 33, 25, 23, 32, 37, 8, 27, 49, 49], [42, 1, 10, 40, 23, 6, 41, 48, 42, 44, 41, 24, 15, 34, 32], [21, 33, 5, 14, 19, 17, 48, 41, 9, 20, 14, 10, 28, 22, 48], [48, 31, 20, 50, 13, 36, 12, 12, 6, 49, 19, 29, 36, 42, 27], [20, 34, 21, 42, 9, 11, 41, 5, 44, 6, 4, 28, 14, 41, 1]]\n",
      "[[41, 19, 19, 48, 30, 40, 1, 18, 16, 41, 24, 8, 48, 50, 0], [20, 8, 36, 50, 42, 6, 4, 9, 31, 32, 6, 3, 15, 0, 6], [37, 39, 49, 33, 13, 1, 41, 6, 1, 46, 14, 11, 0, 31, 47], [23, 1, 22, 3, 45, 21, 31, 2, 29, 34, 17, 0, 20, 39, 22], [15, 24, 19, 5, 17, 42, 34, 18, 2, 34, 0, 28, 40, 11, 16], [9, 12, 29, 35, 28, 45, 13, 20, 42, 0, 24, 37, 5, 40, 45], [24, 18, 25, 17, 40, 10, 24, 34, 0, 41, 3, 11, 3, 37, 25], [15, 24, 29, 42, 40, 7, 46, 0, 34, 3, 42, 27, 30, 10, 24], [46, 36, 36, 3, 34, 43, 0, 48, 42, 12, 32, 5, 36, 10, 1], [29, 23, 49, 8, 26, 0, 8, 43, 27, 1, 21, 21, 5, 7, 7], [46, 22, 7, 11, 0, 5, 33, 25, 23, 32, 37, 8, 27, 49, 49], [42, 1, 10, 0, 23, 6, 41, 48, 42, 44, 41, 24, 15, 34, 32], [21, 33, 0, 14, 19, 17, 48, 41, 9, 20, 14, 10, 28, 22, 48], [48, 0, 20, 50, 13, 36, 12, 12, 6, 49, 19, 29, 36, 42, 27], [0, 34, 21, 42, 9, 11, 41, 5, 44, 6, 4, 28, 14, 41, 1]]\n",
      "En la fila  0  hay 6 multiplos de 3\n",
      "En la fila  1  hay 9 multiplos de 3\n",
      "En la fila  2  hay 4 multiplos de 3\n",
      "En la fila  3  hay 5 multiplos de 3\n",
      "En la fila  4  hay 5 multiplos de 3\n",
      "En la fila  5  hay 7 multiplos de 3\n",
      "En la fila  6  hay 6 multiplos de 3\n",
      "En la fila  7  hay 9 multiplos de 3\n",
      "En la fila  8  hay 8 multiplos de 3\n",
      "En la fila  9  hay 4 multiplos de 3\n",
      "En la fila  10  hay 3 multiplos de 3\n",
      "En la fila  11  hay 7 multiplos de 3\n",
      "En la fila  12  hay 6 multiplos de 3\n",
      "En la fila  13  hay 9 multiplos de 3\n",
      "En la fila  14  hay 5 multiplos de 3\n",
      "En la matriz hay 122 números pares y 103 números impares\n",
      "[['s', 19, 19, 48, 30, 's', 1, 18, 16, 41, 's', 8, 48, 50, 0], ['s', 8, 36, 50, 42, 's', 4, 9, 31, 32, 's', 3, 15, 0, 6], ['s', 39, 49, 33, 13, 's', 41, 6, 1, 46, 's', 11, 0, 31, 47], ['s', 1, 22, 3, 45, 's', 31, 2, 29, 34, 's', 0, 20, 39, 22], ['s', 24, 19, 5, 17, 's', 34, 18, 2, 34, 's', 28, 40, 11, 16], ['s', 12, 29, 35, 28, 's', 13, 20, 42, 0, 's', 37, 5, 40, 45], ['s', 18, 25, 17, 40, 's', 24, 34, 0, 41, 's', 11, 3, 37, 25], ['s', 24, 29, 42, 40, 's', 46, 0, 34, 3, 's', 27, 30, 10, 24], ['s', 36, 36, 3, 34, 's', 0, 48, 42, 12, 's', 5, 36, 10, 1], ['s', 23, 49, 8, 26, 's', 8, 43, 27, 1, 's', 21, 5, 7, 7], ['s', 22, 7, 11, 0, 's', 33, 25, 23, 32, 's', 8, 27, 49, 49], ['s', 1, 10, 0, 23, 's', 41, 48, 42, 44, 's', 24, 15, 34, 32], ['s', 33, 0, 14, 19, 's', 48, 41, 9, 20, 's', 10, 28, 22, 48], ['s', 0, 20, 50, 13, 's', 12, 12, 6, 49, 's', 29, 36, 42, 27], ['s', 34, 21, 42, 9, 's', 41, 5, 44, 6, 's', 28, 14, 41, 1]]\n",
      "aquí hay un multiplo de 7\n",
      "aquí hay un multiplo de 7\n",
      "aquí hay un multiplo de 7\n",
      "aquí hay un multiplo de 7\n",
      "aquí hay un multiplo de 7\n",
      "aquí hay un multiplo de 7\n",
      "aquí hay un multiplo de 7\n",
      "aquí hay un multiplo de 7\n",
      "aquí hay un multiplo de 7\n",
      "aquí hay un multiplo de 7\n",
      "aquí hay un multiplo de 7\n",
      "aquí hay un multiplo de 7\n",
      "aquí hay un multiplo de 7\n",
      "aquí hay un multiplo de 7\n",
      "aquí hay un multiplo de 7\n",
      "aquí hay un multiplo de 7\n",
      "aquí hay un multiplo de 7\n",
      "aquí hay un multiplo de 7\n",
      "aquí hay un multiplo de 7\n",
      "aquí hay un multiplo de 7\n",
      "aquí hay un multiplo de 7\n",
      "aquí hay un multiplo de 7\n",
      "aquí hay un multiplo de 7\n",
      "aquí hay un multiplo de 7\n",
      "aquí hay un multiplo de 7\n",
      "aquí hay un multiplo de 7\n",
      "aquí hay un multiplo de 7\n",
      "aquí hay un multiplo de 7\n",
      "aquí hay un multiplo de 7\n",
      "aquí hay un multiplo de 7\n",
      "aquí hay un multiplo de 7\n",
      "aquí hay un multiplo de 7\n",
      "aquí hay un multiplo de 7\n",
      "aquí hay un multiplo de 7\n",
      "aquí hay un multiplo de 7\n",
      "aquí hay un multiplo de 7\n",
      "aquí hay un multiplo de 7\n",
      "aquí hay un multiplo de 7\n",
      "[[300, 430, 330, 360, 10, 400, 30, 70, 300, 400, 370, 60, 100, 470, 120], [360, 210, 380, 350, 170, 360, 270, 260, 320, 430, 210, 440, 70, 20, 360], [40, 490, 150, 260, 170, 190, 170, 430, 400, 460, 380, 150, 400, 190, 480], [140, 490, 20, 240, 210, 440, 120, 460, 210, 470, 400, 100, 490, 100, 20], [430, 150, 260, 60, 330, 320, 330, 160, 420, 290, 250, 210, 400, 370, 270], [30, 470, 240, 380, 440, 120, 420, 430, 350, 50, 120, 10, 360, 330, 500], [440, 50, 130, 390, 180, 180, 380, 220, 280, 470, 450, 40, 180, 260, 480], [460, 280, 270, 20, 170, 470, 110, 470, 10, 100, 210, 420, 500, 350, 500], [270, 350, 340, 470, 360, 160, 290, 350, 470, 190, 420, 470, 310, 150, 60], [420, 390, 340, 60, 250, 60, 410, 480, 60, 310, 30, 490, 350, 340, 400], [220, 470, 490, 370, 170, 70, 400, 220, 210, 290, 360, 380, 160, 70, 450], [60, 160, 230, 100, 410, 290, 100, 350, 200, 270, 20, 330, 270, 390, 450], [120, 180, 310, 110, 170, 450, 80, 150, 50, 180, 230, 20, 200, 210, 390], [370, 90, 150, 30, 430, 140, 130, 440, 380, 490, 170, 400, 220, 430, 420], [420, 70, 390, 350, 380, 410, 170, 240, 470, 110, 50, 60, 40, 260, 450]]\n"
     ]
    }
   ],
   "source": [
    "#Ejercicio 1 (Sin Numpy)\n",
    "#Matriz de 15x15 con valores enteros aleatorios\n",
    "filas=15\n",
    "columnas=15\n",
    "x=[]\n",
    "for i in range(filas):\n",
    "    x.append([])\n",
    "    for j in range(columnas):\n",
    "        x[i].append(random.randint(1,50))\n",
    "print(x)\n",
    "#Diagonal secundaria igualada a cero\n",
    "for i in range(filas):\n",
    "    if i==0:\n",
    "        x[i][-1]=0\n",
    "    else:\n",
    "        x[i][-i-1]=0\n",
    "print(x)\n",
    "#Multiplos de 3 por fila\n",
    "for i in range(filas):\n",
    "    cont=0\n",
    "    for j in range(len(x[i])):\n",
    "        if x[i][j]%3==0:\n",
    "            cont+=1\n",
    "    print(\"En la fila \",i,\" hay\", cont, \"multiplos de 3\")\n",
    "        \n",
    "#Numeros pares e impares\n",
    "par=0\n",
    "impar=0\n",
    "for i in range(filas):\n",
    "    for j in range(len(x[i])):\n",
    "        if x[i][j]%2==0:\n",
    "            par+=1\n",
    "        elif x[i][j]%2!=0:\n",
    "            impar+=1\n",
    "print(f\"En la matriz hay {par} números pares y {impar} números impares\")\n",
    "#Cada 5 datos de cada fila cambiarlo por una \"s\"\n",
    "for i in range(filas):\n",
    "    for j in range(len(x[i])):\n",
    "        if j%5==0:\n",
    "            x[i][j]=\"s\"\n",
    "print(x)\n",
    "#Imprimir \"aquí hay un multiplo de 7\" cda que haya un multiplo de 7 en la matriz\n",
    "filas=15\n",
    "columnas=15\n",
    "x=[]\n",
    "for i in range(filas):\n",
    "    x.append([])\n",
    "    for j in range(columnas):\n",
    "        x[i].append(random.randint(1,50))\n",
    "#Se redefine la matriz x ya que la anterior tiene \"s\" en algunas entradas a las cuales no se les puede aplicar\n",
    "#la función modulo\n",
    "for i in range(filas):\n",
    "    for j in range(len(x[i])):\n",
    "        if x[i][j]%7==0:\n",
    "            print(\"aquí hay un multiplo de 7\")\n",
    "#Multiplicar la matriz por 10\n",
    "for i in range(filas):\n",
    "    for j in range(len(x[i])):\n",
    "        x[i][j]=x[i][j]*10\n",
    "print(x)\n"
   ]
  },
  {
   "cell_type": "code",
   "execution_count": 79,
   "metadata": {},
   "outputs": [
    {
     "name": "stdout",
     "output_type": "stream",
     "text": [
      "[[0.85242473 0.43836182 0.76899275]\n",
      " [1.40512987 0.57820925 1.28989561]\n",
      " [0.82915614 1.11829593 1.11017533]]\n",
      "[[1.58365823 0.92234163 0.77013681]\n",
      " [0.81470138 0.34967644 0.58223864]\n",
      " [1.31999021 0.98779886 0.60747464]]\n",
      "El determinante de la matriz A es:  0.2382887133013032 El determinante de la matriz b es:  -0.2422427749930645\n",
      "La solución del sistema es:  [[-15.]\n",
      " [  6.]\n",
      " [ -1.]]\n"
     ]
    }
   ],
   "source": [
    "#Ejercicio 2(con numpy)\n",
    "#Matriz de valores aleatorios de 3x3\n",
    "A=np.random.rand(3,3)\n",
    "B=np.random.rand(3,3)\n",
    "C=A.dot(B)\n",
    "print(C)\n",
    "D=np.matmul(B,A)\n",
    "print(D)\n",
    "det_a=np.linalg.det(A)\n",
    "det_b=np.linalg.det(B)\n",
    "print(\"El determinante de la matriz A es: \",det_a,\"El determinante de la matriz b es: \", det_b)\n",
    "#Resolver el sistema de ecaciones dado\n",
    "S1=np.matrix([[1,2,0],[2,3,-2],[-1,0,6]])\n",
    "S2=np.matrix([[-3],[-10],[9]])\n",
    "sol=np.linalg.solve(S1,S2)\n",
    "print(\"La solución del sistema es: \",sol)"
   ]
  },
  {
   "cell_type": "code",
   "execution_count": 98,
   "metadata": {},
   "outputs": [
    {
     "name": "stdout",
     "output_type": "stream",
     "text": [
      "[[1 2 3]\n",
      " [4 5 6]\n",
      " [7 8 9]]\n",
      "[[1 5 6]\n",
      " [2 4 7]\n",
      " [1 4 3]]\n"
     ]
    },
    {
     "data": {
      "text/plain": [
       "[[8], [64], [125]]"
      ]
     },
     "execution_count": 98,
     "metadata": {},
     "output_type": "execute_result"
    }
   ],
   "source": [
    "#Ejercicio de clase #fila por columna\n",
    "#Realiza el codigo para multiplicar cualquier par de matrices cuadradas usando ciclos for\n",
    "x=np.array([[1,2,3],[4,5,6],[7,8,9]])\n",
    "y=np.array([[1,5,6],[2,4,7],[1,4,3]])\n",
    "print(x)\n",
    "print(y)\n",
    "mul=[[],[],[]]\n",
    "mult=0\n",
    "for i in range(len(x)):\n",
    "    for j in range(len(x[i])):\n",
    "        mult+=x[i][j]*y[j][i] \n",
    "    mul[i].append(mult)\n",
    "    mult=0\n",
    "mul"
   ]
  }
 ],
 "metadata": {
  "kernelspec": {
   "display_name": "Python 3",
   "language": "python",
   "name": "python3"
  },
  "language_info": {
   "codemirror_mode": {
    "name": "ipython",
    "version": 3
   },
   "file_extension": ".py",
   "mimetype": "text/x-python",
   "name": "python",
   "nbconvert_exporter": "python",
   "pygments_lexer": "ipython3",
   "version": "3.6.5"
  }
 },
 "nbformat": 4,
 "nbformat_minor": 2
}
