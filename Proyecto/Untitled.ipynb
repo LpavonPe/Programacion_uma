{
 "cells": [
  {
   "cell_type": "code",
   "execution_count": 1,
   "metadata": {},
   "outputs": [],
   "source": [
    "#Esta funcion busca los paises y el numero de suscriptores\n",
    "def pais_suscriptores_mes(mes):\n",
    "    diccionario = {}\n",
    "    suscriptores = []\n",
    "    for i in range(len(list(tiempo_vista_df[\"Date\"]))):\n",
    "        if tiempo_vista_df[\"Date\"][i].month == mes:\n",
    "            if tiempo_vista_df[\"Subscribers gained\"][i] != 0:\n",
    "                if tiempo_vista_df[\"Geography\"][i] in diccionario:\n",
    "                    diccionario[tiempo_vista_df[\"Geography\"][i]] += tiempo_vista_df[\"Subscribers gained\"][i]\n",
    "                else: \n",
    "                    diccionario[tiempo_vista_df[\"Geography\"][i]] = tiempo_vista_df[\"Subscribers gained\"][i]\n",
    "    for item in diccionario:\n",
    "        print(f\"{item} : {diccionario[item]}\")"
   ]
  },
  {
   "cell_type": "code",
   "execution_count": null,
   "metadata": {},
   "outputs": [],
   "source": []
  }
 ],
 "metadata": {
  "kernelspec": {
   "display_name": "Python 3",
   "language": "python",
   "name": "python3"
  },
  "language_info": {
   "codemirror_mode": {
    "name": "ipython",
    "version": 3
   },
   "file_extension": ".py",
   "mimetype": "text/x-python",
   "name": "python",
   "nbconvert_exporter": "python",
   "pygments_lexer": "ipython3",
   "version": "3.6.5"
  }
 },
 "nbformat": 4,
 "nbformat_minor": 2
}
