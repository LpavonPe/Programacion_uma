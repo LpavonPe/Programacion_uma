{
 "cells": [
  {
   "cell_type": "code",
   "execution_count": null,
   "metadata": {},
   "outputs": [],
   "source": [
    "import sys\n",
    "from PyQt5 import uic, QtWidgets\n",
    "\n",
    "qtCreatorFile = \"Calculadora_descuento.ui\" # Nombre del archivo aquí.\n",
    "\n",
    "Ui_MainWindow, QtBaseClass = uic.loadUiType(qtCreatorFile)\n",
    "\n",
    "class MyApp(QtWidgets.QMainWindow, Ui_MainWindow): # Inicializa la pantalla\n",
    "    def __init__(self):\n",
    "        QtWidgets.QMainWindow.__init__(self)\n",
    "        Ui_MainWindow.__init__(self)\n",
    "        self.setupUi(self)\n",
    "        self.Calcular.clicked.connect(self.funcion)  #se asigna el boton a la función, segun el nombre de la función\n",
    "        self.iva.clicked.connect(self.iva_fun)\n",
    "        \n",
    "    def funcion(self):\n",
    "        price=int(self.Precio.text())\n",
    "        desc=int(self.Descuento.text())\n",
    "        res=price-(price*desc/100)\n",
    "        self.Resultado.setText(str(res)) #Asigna el resultado al cuadro de texto del mismo nombre\n",
    "        \n",
    "    def iva_fun(self):\n",
    "        price=int(self.Precio.text())\n",
    "        desc=int(self.Descuento.text())\n",
    "        res_prev=price-(price*desc/100)\n",
    "        precio_fin=price + res_prev*(.16)\n",
    "        self.resultado_iva.setText(str(precio_fin)) \n",
    "        \n",
    "if __name__ == \"__main__\":\n",
    "    app =  QtWidgets.QApplication(sys.argv)\n",
    "    window = MyApp()\n",
    "    window.show()\n",
    "    sys.exit(app.exec_())"
   ]
  }
 ],
 "metadata": {
  "kernelspec": {
   "display_name": "Python 3",
   "language": "python",
   "name": "python3"
  },
  "language_info": {
   "codemirror_mode": {
    "name": "ipython",
    "version": 3
   },
   "file_extension": ".py",
   "mimetype": "text/x-python",
   "name": "python",
   "nbconvert_exporter": "python",
   "pygments_lexer": "ipython3",
   "version": "3.6.5"
  }
 },
 "nbformat": 4,
 "nbformat_minor": 2
}
